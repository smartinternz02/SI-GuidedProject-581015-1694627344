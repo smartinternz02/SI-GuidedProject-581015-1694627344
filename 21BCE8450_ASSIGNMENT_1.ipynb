{
  "nbformat": 4,
  "nbformat_minor": 0,
  "metadata": {
    "colab": {
      "provenance": []
    },
    "kernelspec": {
      "name": "python3",
      "display_name": "Python 3"
    },
    "language_info": {
      "name": "python"
    }
  },
  "cells": [
    {
      "cell_type": "markdown",
      "source": [
        "**NAME: DESU VENKATA SAI MANOJ KUMAR**\n",
        "\n",
        "\n",
        "*   REG NO: 21BCE8450\n",
        "*   CAMPUS: VIT-AP\n",
        "*   Assignment 1 on sept 1\n",
        "*   Morning Slot (10-12 am)\n",
        "*   Google colab Link: https://colab.research.google.com/drive/1Od0igKeQELcLX6KbQJYeXdd0l3B8hKD7?usp=sharing\n",
        "\n",
        "\n",
        "\n",
        "\n"
      ],
      "metadata": {
        "id": "0xIU5K3ys0jU"
      }
    },
    {
      "cell_type": "markdown",
      "source": [
        "# NumPy Exercises\n",
        "\n",
        "Now that we've learned about NumPy let's test your knowledge. We'll start off with a few simple tasks, and then you'll be asked some more complicated questions."
      ],
      "metadata": {
        "id": "pgshaHhDxm3b"
      }
    },
    {
      "cell_type": "markdown",
      "source": [
        "#### Import NumPy as np"
      ],
      "metadata": {
        "id": "5GTBhSeuxy2I"
      }
    },
    {
      "cell_type": "code",
      "source": [
        "import numpy as np"
      ],
      "metadata": {
        "id": "3Gx7txtotDDo"
      },
      "execution_count": null,
      "outputs": []
    },
    {
      "cell_type": "markdown",
      "source": [
        "#### Create an array of 10 zeros"
      ],
      "metadata": {
        "id": "QwldZhwpx7gA"
      }
    },
    {
      "cell_type": "code",
      "source": [
        "my_array =np.zeros(10)\n",
        "my_array"
      ],
      "metadata": {
        "colab": {
          "base_uri": "https://localhost:8080/"
        },
        "id": "sj3tWXLQx8u5",
        "outputId": "286d93d1-27da-4acd-f517-ccd752529f84"
      },
      "execution_count": null,
      "outputs": [
        {
          "output_type": "execute_result",
          "data": {
            "text/plain": [
              "array([0., 0., 0., 0., 0., 0., 0., 0., 0., 0.])"
            ]
          },
          "metadata": {},
          "execution_count": 8
        }
      ]
    },
    {
      "cell_type": "markdown",
      "source": [
        "#### Create an array of 10 ones"
      ],
      "metadata": {
        "id": "R5VGX5RkyDjU"
      }
    },
    {
      "cell_type": "code",
      "source": [
        "my_array = np.ones(10)\n",
        "my_array"
      ],
      "metadata": {
        "colab": {
          "base_uri": "https://localhost:8080/"
        },
        "id": "ZBCtAvakyEI7",
        "outputId": "d22d64af-bf6c-48a4-e9de-818dcb4809f2"
      },
      "execution_count": null,
      "outputs": [
        {
          "output_type": "execute_result",
          "data": {
            "text/plain": [
              "array([1., 1., 1., 1., 1., 1., 1., 1., 1., 1.])"
            ]
          },
          "metadata": {},
          "execution_count": 9
        }
      ]
    },
    {
      "cell_type": "markdown",
      "source": [
        "#### Create an array of 10 fives"
      ],
      "metadata": {
        "id": "KFu7ULbOyLxQ"
      }
    },
    {
      "cell_type": "code",
      "source": [
        "my_array = np.full(10,5)\n",
        "my_array"
      ],
      "metadata": {
        "colab": {
          "base_uri": "https://localhost:8080/"
        },
        "id": "I_LMHUT3yMbj",
        "outputId": "949bc683-6210-4329-b1a9-a9a3a455077f"
      },
      "execution_count": null,
      "outputs": [
        {
          "output_type": "execute_result",
          "data": {
            "text/plain": [
              "array([5, 5, 5, 5, 5, 5, 5, 5, 5, 5])"
            ]
          },
          "metadata": {},
          "execution_count": 5
        }
      ]
    },
    {
      "cell_type": "markdown",
      "source": [
        "#### Create an array of the integers from 10 to 50"
      ],
      "metadata": {
        "id": "_5cPj15vyeXt"
      }
    },
    {
      "cell_type": "code",
      "source": [
        "my_array = np.arange(10,51)\n",
        "my_array"
      ],
      "metadata": {
        "colab": {
          "base_uri": "https://localhost:8080/"
        },
        "id": "lYEilPxRyfSn",
        "outputId": "6f7bda8f-cbb8-4955-aed9-9170e80db58d"
      },
      "execution_count": null,
      "outputs": [
        {
          "output_type": "execute_result",
          "data": {
            "text/plain": [
              "array([10, 11, 12, 13, 14, 15, 16, 17, 18, 19, 20, 21, 22, 23, 24, 25, 26,\n",
              "       27, 28, 29, 30, 31, 32, 33, 34, 35, 36, 37, 38, 39, 40, 41, 42, 43,\n",
              "       44, 45, 46, 47, 48, 49, 50])"
            ]
          },
          "metadata": {},
          "execution_count": 6
        }
      ]
    },
    {
      "cell_type": "markdown",
      "source": [
        "#### Create an array of all the even integers from 10 to 50"
      ],
      "metadata": {
        "id": "ot7goxFqyjDb"
      }
    },
    {
      "cell_type": "code",
      "source": [
        "my_array = np.arange(10,51,2)\n",
        "my_array"
      ],
      "metadata": {
        "colab": {
          "base_uri": "https://localhost:8080/"
        },
        "id": "iR_pD5JPylzL",
        "outputId": "6fd6f140-39c1-4cb9-cb3e-5738728d69a5"
      },
      "execution_count": null,
      "outputs": [
        {
          "output_type": "execute_result",
          "data": {
            "text/plain": [
              "array([10, 12, 14, 16, 18, 20, 22, 24, 26, 28, 30, 32, 34, 36, 38, 40, 42,\n",
              "       44, 46, 48, 50])"
            ]
          },
          "metadata": {},
          "execution_count": 7
        }
      ]
    },
    {
      "cell_type": "markdown",
      "source": [
        "#### Create a 3x3 matrix with values ranging from 0 to 8"
      ],
      "metadata": {
        "id": "d8HQ_eV7y-hb"
      }
    },
    {
      "cell_type": "code",
      "source": [
        "my_array = np.arange(9)\n",
        "my_matrix = my_array.reshape(3, 3)\n",
        "my_matrix"
      ],
      "metadata": {
        "colab": {
          "base_uri": "https://localhost:8080/"
        },
        "id": "Efb3ZnySy_NQ",
        "outputId": "355903be-0b92-4ef4-f907-f29d663a803c"
      },
      "execution_count": null,
      "outputs": [
        {
          "output_type": "execute_result",
          "data": {
            "text/plain": [
              "array([[0, 1, 2],\n",
              "       [3, 4, 5],\n",
              "       [6, 7, 8]])"
            ]
          },
          "metadata": {},
          "execution_count": 10
        }
      ]
    },
    {
      "cell_type": "markdown",
      "source": [
        "#### Create a 3x3 identity matrix"
      ],
      "metadata": {
        "id": "JQnlILbuzDUk"
      }
    },
    {
      "cell_type": "code",
      "source": [
        "my_matrix = np.eye(3)\n",
        "my_matrix"
      ],
      "metadata": {
        "colab": {
          "base_uri": "https://localhost:8080/"
        },
        "id": "mo8AkeHxzEIJ",
        "outputId": "b4c16885-7789-4166-a425-0a4c52d54652"
      },
      "execution_count": null,
      "outputs": [
        {
          "output_type": "execute_result",
          "data": {
            "text/plain": [
              "array([[1., 0., 0.],\n",
              "       [0., 1., 0.],\n",
              "       [0., 0., 1.]])"
            ]
          },
          "metadata": {},
          "execution_count": 11
        }
      ]
    },
    {
      "cell_type": "markdown",
      "source": [
        "#### Use NumPy to generate a random number between 0 and 1"
      ],
      "metadata": {
        "id": "cf7w0QmFzJxi"
      }
    },
    {
      "cell_type": "code",
      "source": [
        "random_number = np.random.rand()\n",
        "random_number"
      ],
      "metadata": {
        "colab": {
          "base_uri": "https://localhost:8080/"
        },
        "id": "aQ21IITJzKgs",
        "outputId": "aee4abb5-c765-45a0-9c79-4aeb03094b1a"
      },
      "execution_count": null,
      "outputs": [
        {
          "output_type": "execute_result",
          "data": {
            "text/plain": [
              "0.9316689831489945"
            ]
          },
          "metadata": {},
          "execution_count": 12
        }
      ]
    },
    {
      "cell_type": "markdown",
      "source": [
        "#### Use NumPy to generate an array of 25 random numbers sampled from a standard normal distribution"
      ],
      "metadata": {
        "id": "S6I6xKs7zPYQ"
      }
    },
    {
      "cell_type": "code",
      "source": [
        "random_numbers = np.random.randn(25)\n",
        "print(random_numbers)"
      ],
      "metadata": {
        "colab": {
          "base_uri": "https://localhost:8080/"
        },
        "id": "kGHFmokIzTOM",
        "outputId": "3498cda4-f5f8-455b-d6c4-627670b68721"
      },
      "execution_count": null,
      "outputs": [
        {
          "output_type": "stream",
          "name": "stdout",
          "text": [
            "[ 0.14692131  1.2516416  -0.03070389  1.14629939 -2.5453047  -0.40622409\n",
            "  0.45675652  0.2332028   0.70836438  1.11994504  1.34991106 -0.12219317\n",
            " -0.4103423  -1.52968004  0.17449161 -1.87234119 -0.33837708  1.23059191\n",
            " -1.21198198 -1.01936318  1.26635505 -1.27562621  0.47353392  0.41308706\n",
            "  2.62462902]\n"
          ]
        }
      ]
    },
    {
      "cell_type": "markdown",
      "source": [
        "#### Create the following matrix:"
      ],
      "metadata": {
        "id": "KePr08j8zeMP"
      }
    },
    {
      "cell_type": "code",
      "source": [
        "my_array = np.arange(0.01,1.01,0.01)\n",
        "my_matrix = my_array.reshape(10,10)\n",
        "my_matrix"
      ],
      "metadata": {
        "colab": {
          "base_uri": "https://localhost:8080/"
        },
        "id": "8v6Z_s37zfBJ",
        "outputId": "bf261660-359d-4985-898c-f0ed4825a3bb"
      },
      "execution_count": null,
      "outputs": [
        {
          "output_type": "execute_result",
          "data": {
            "text/plain": [
              "array([[0.01, 0.02, 0.03, 0.04, 0.05, 0.06, 0.07, 0.08, 0.09, 0.1 ],\n",
              "       [0.11, 0.12, 0.13, 0.14, 0.15, 0.16, 0.17, 0.18, 0.19, 0.2 ],\n",
              "       [0.21, 0.22, 0.23, 0.24, 0.25, 0.26, 0.27, 0.28, 0.29, 0.3 ],\n",
              "       [0.31, 0.32, 0.33, 0.34, 0.35, 0.36, 0.37, 0.38, 0.39, 0.4 ],\n",
              "       [0.41, 0.42, 0.43, 0.44, 0.45, 0.46, 0.47, 0.48, 0.49, 0.5 ],\n",
              "       [0.51, 0.52, 0.53, 0.54, 0.55, 0.56, 0.57, 0.58, 0.59, 0.6 ],\n",
              "       [0.61, 0.62, 0.63, 0.64, 0.65, 0.66, 0.67, 0.68, 0.69, 0.7 ],\n",
              "       [0.71, 0.72, 0.73, 0.74, 0.75, 0.76, 0.77, 0.78, 0.79, 0.8 ],\n",
              "       [0.81, 0.82, 0.83, 0.84, 0.85, 0.86, 0.87, 0.88, 0.89, 0.9 ],\n",
              "       [0.91, 0.92, 0.93, 0.94, 0.95, 0.96, 0.97, 0.98, 0.99, 1.  ]])"
            ]
          },
          "metadata": {},
          "execution_count": 14
        }
      ]
    },
    {
      "cell_type": "markdown",
      "source": [
        "#### Create an array of 20 linearly spaced points between 0 and 1:"
      ],
      "metadata": {
        "id": "dyoqY6N0zjFH"
      }
    },
    {
      "cell_type": "code",
      "source": [
        "linear_points = np.linspace(0, 1, 20)\n",
        "linear_points"
      ],
      "metadata": {
        "colab": {
          "base_uri": "https://localhost:8080/"
        },
        "id": "_F-gCpkKzjvb",
        "outputId": "310fc483-d5d3-42f8-d992-02729c9f6007"
      },
      "execution_count": null,
      "outputs": [
        {
          "output_type": "execute_result",
          "data": {
            "text/plain": [
              "array([0.        , 0.05263158, 0.10526316, 0.15789474, 0.21052632,\n",
              "       0.26315789, 0.31578947, 0.36842105, 0.42105263, 0.47368421,\n",
              "       0.52631579, 0.57894737, 0.63157895, 0.68421053, 0.73684211,\n",
              "       0.78947368, 0.84210526, 0.89473684, 0.94736842, 1.        ])"
            ]
          },
          "metadata": {},
          "execution_count": 15
        }
      ]
    },
    {
      "cell_type": "markdown",
      "source": [
        "## Numpy Indexing and Selection\n",
        "\n",
        "Now you will be given a few matrices, and be asked to replicate the resulting matrix outputs:"
      ],
      "metadata": {
        "id": "rZGdX4hFzp8P"
      }
    },
    {
      "cell_type": "code",
      "source": [
        "mat = np.arange(1,26).reshape(5,5)\n",
        "mat"
      ],
      "metadata": {
        "colab": {
          "base_uri": "https://localhost:8080/"
        },
        "id": "nHrM9ucjzq-_",
        "outputId": "cac0e14f-a48c-4895-af16-c5b98a598b2d"
      },
      "execution_count": null,
      "outputs": [
        {
          "output_type": "execute_result",
          "data": {
            "text/plain": [
              "array([[ 1,  2,  3,  4,  5],\n",
              "       [ 6,  7,  8,  9, 10],\n",
              "       [11, 12, 13, 14, 15],\n",
              "       [16, 17, 18, 19, 20],\n",
              "       [21, 22, 23, 24, 25]])"
            ]
          },
          "metadata": {},
          "execution_count": 16
        }
      ]
    },
    {
      "cell_type": "code",
      "source": [
        "# WRITE CODE HERE THAT REPRODUCES THE OUTPUT OF THE CELL BELOW\n",
        "# BE CAREFUL NOT TO RUN THE CELL BELOW, OTHERWISE YOU WON'T\n",
        "# BE ABLE TO SEE THE OUTPUT ANY MORE"
      ],
      "metadata": {
        "id": "RDTDJ14nzxIK"
      },
      "execution_count": null,
      "outputs": []
    },
    {
      "cell_type": "code",
      "source": [
        "subset = mat[2:, 1:]\n",
        "subset"
      ],
      "metadata": {
        "colab": {
          "base_uri": "https://localhost:8080/"
        },
        "id": "ubfxkJAKzzrR",
        "outputId": "27a41d24-83b8-4f00-b55c-e53722bcb449"
      },
      "execution_count": null,
      "outputs": [
        {
          "output_type": "execute_result",
          "data": {
            "text/plain": [
              "array([[12, 13, 14, 15],\n",
              "       [17, 18, 19, 20],\n",
              "       [22, 23, 24, 25]])"
            ]
          },
          "metadata": {},
          "execution_count": 18
        }
      ]
    },
    {
      "cell_type": "code",
      "source": [
        "# WRITE CODE HERE THAT REPRODUCES THE OUTPUT OF THE CELL BELOW\n",
        "# BE CAREFUL NOT TO RUN THE CELL BELOW, OTHERWISE YOU WON'T\n",
        "# BE ABLE TO SEE THE OUTPUT ANY MORE"
      ],
      "metadata": {
        "id": "wjQyqOYIz21z"
      },
      "execution_count": null,
      "outputs": []
    },
    {
      "cell_type": "code",
      "source": [
        "index = mat[3,4]\n",
        "index"
      ],
      "metadata": {
        "colab": {
          "base_uri": "https://localhost:8080/"
        },
        "id": "DIQiGOXGz5Ym",
        "outputId": "256e0eb1-d168-4f73-d5bc-d449956cbdfb"
      },
      "execution_count": null,
      "outputs": [
        {
          "output_type": "execute_result",
          "data": {
            "text/plain": [
              "20"
            ]
          },
          "metadata": {},
          "execution_count": 20
        }
      ]
    },
    {
      "cell_type": "code",
      "source": [
        "# WRITE CODE HERE THAT REPRODUCES THE OUTPUT OF THE CELL BELOW\n",
        "# BE CAREFUL NOT TO RUN THE CELL BELOW, OTHERWISE YOU WON'T\n",
        "# BE ABLE TO SEE THE OUTPUT ANY MORE"
      ],
      "metadata": {
        "id": "nvledW9Bz7_X"
      },
      "execution_count": null,
      "outputs": []
    },
    {
      "cell_type": "code",
      "source": [
        "subset = mat[0:3,1]\n",
        "subset =subset.reshape(3,1)\n",
        "subset"
      ],
      "metadata": {
        "colab": {
          "base_uri": "https://localhost:8080/"
        },
        "id": "vjpjtiwyz-RM",
        "outputId": "fb82e96d-a4d8-436a-f0c4-27c71624267d"
      },
      "execution_count": null,
      "outputs": [
        {
          "output_type": "execute_result",
          "data": {
            "text/plain": [
              "array([[ 2],\n",
              "       [ 7],\n",
              "       [12]])"
            ]
          },
          "metadata": {},
          "execution_count": 22
        }
      ]
    },
    {
      "cell_type": "code",
      "source": [
        "# WRITE CODE HERE THAT REPRODUCES THE OUTPUT OF THE CELL BELOW\n",
        "# BE CAREFUL NOT TO RUN THE CELL BELOW, OTHERWISE YOU WON'T\n",
        "# BE ABLE TO SEE THE OUTPUT ANY MORE"
      ],
      "metadata": {
        "id": "tA1VNERQ0BAi"
      },
      "execution_count": null,
      "outputs": []
    },
    {
      "cell_type": "code",
      "source": [
        "subset =mat[4,0:]\n",
        "subset"
      ],
      "metadata": {
        "colab": {
          "base_uri": "https://localhost:8080/"
        },
        "id": "DQy0z0uX0C2N",
        "outputId": "c7aac329-6401-4105-88b4-d7d902d55c26"
      },
      "execution_count": null,
      "outputs": [
        {
          "output_type": "execute_result",
          "data": {
            "text/plain": [
              "array([21, 22, 23, 24, 25])"
            ]
          },
          "metadata": {},
          "execution_count": 24
        }
      ]
    },
    {
      "cell_type": "code",
      "source": [
        "# WRITE CODE HERE THAT REPRODUCES THE OUTPUT OF THE CELL BELOW\n",
        "# BE CAREFUL NOT TO RUN THE CELL BELOW, OTHERWISE YOU WON'T\n",
        "# BE ABLE TO SEE THE OUTPUT ANY MORE"
      ],
      "metadata": {
        "id": "EgCRX7_Y0Fdb"
      },
      "execution_count": null,
      "outputs": []
    },
    {
      "cell_type": "code",
      "source": [
        "subset = mat[3:,]\n",
        "subset"
      ],
      "metadata": {
        "colab": {
          "base_uri": "https://localhost:8080/"
        },
        "id": "yx00xEYY0Hep",
        "outputId": "5553f45c-b7e1-4911-f81f-e3457ce8a9b8"
      },
      "execution_count": null,
      "outputs": [
        {
          "output_type": "execute_result",
          "data": {
            "text/plain": [
              "array([[16, 17, 18, 19, 20],\n",
              "       [21, 22, 23, 24, 25]])"
            ]
          },
          "metadata": {},
          "execution_count": 26
        }
      ]
    },
    {
      "cell_type": "markdown",
      "source": [
        "### Now do the following"
      ],
      "metadata": {
        "id": "M-aHmcR20LLK"
      }
    },
    {
      "cell_type": "markdown",
      "source": [
        "#### Get the sum of all the values in mat"
      ],
      "metadata": {
        "id": "pYkHh7jy0NqR"
      }
    },
    {
      "cell_type": "code",
      "source": [
        "sum = np.sum(mat)\n",
        "sum"
      ],
      "metadata": {
        "colab": {
          "base_uri": "https://localhost:8080/"
        },
        "id": "mNcwiohP0PEi",
        "outputId": "ada99f4b-0b64-44cf-c65d-c84c294adaac"
      },
      "execution_count": null,
      "outputs": [
        {
          "output_type": "execute_result",
          "data": {
            "text/plain": [
              "325"
            ]
          },
          "metadata": {},
          "execution_count": 27
        }
      ]
    },
    {
      "cell_type": "markdown",
      "source": [
        "#### Get the standard deviation of the values in mat"
      ],
      "metadata": {
        "id": "R2ab70vl0TYW"
      }
    },
    {
      "cell_type": "code",
      "source": [
        "std = np.std(mat)\n",
        "std"
      ],
      "metadata": {
        "colab": {
          "base_uri": "https://localhost:8080/"
        },
        "id": "voIon5020U4I",
        "outputId": "0e894cba-f48c-49fb-d078-61e5b90a244a"
      },
      "execution_count": null,
      "outputs": [
        {
          "output_type": "execute_result",
          "data": {
            "text/plain": [
              "7.211102550927978"
            ]
          },
          "metadata": {},
          "execution_count": 28
        }
      ]
    },
    {
      "cell_type": "markdown",
      "source": [
        "#### Get the sum of all the columns in mat"
      ],
      "metadata": {
        "id": "EKM9WZ2-0XfI"
      }
    },
    {
      "cell_type": "code",
      "source": [
        "column_sums = np.sum(mat, axis=0)\n",
        "column_sums"
      ],
      "metadata": {
        "colab": {
          "base_uri": "https://localhost:8080/"
        },
        "id": "39m3HqlE0YGc",
        "outputId": "e6a73217-ffae-4d45-b550-56510b37d98f"
      },
      "execution_count": null,
      "outputs": [
        {
          "output_type": "execute_result",
          "data": {
            "text/plain": [
              "array([55, 60, 65, 70, 75])"
            ]
          },
          "metadata": {},
          "execution_count": 29
        }
      ]
    }
  ]
}